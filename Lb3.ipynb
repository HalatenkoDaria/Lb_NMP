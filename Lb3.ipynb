{
 "cells": [
  {
   "cell_type": "code",
   "execution_count": 15,
   "id": "887a9928-251a-411f-8b51-26197c299ab4",
   "metadata": {},
   "outputs": [
    {
     "name": "stdout",
     "output_type": "stream",
     "text": [
      "Розв'язки на відрізку [-2/3, 1]\n",
      "Розв'язок методом Ньютона: x = 0.79092\n",
      "Розв'язок комбінованим методом: x = 0.79092\n"
     ]
    }
   ],
   "source": [
    "#Лабораторна робота №3\n",
    "#Варіант 1\n",
    "#Галатенко Дарія Іванівна 2-16\n",
    "\n",
    "import numpy as np\n",
    "import numdifftools as nd\n",
    "\n",
    "def f(x):\n",
    "    return 9*pow(x, 4) + 8*pow(x,3) + 1.5*pow(x, 2) + 2*x - 10\n",
    "\n",
    "def derivative_f(x): # Оголошую функцію derivative_f(x), яка обчислює похідну функції f(x) в точці x\n",
    "    return nd.Derivative(f)(x)\n",
    "\n",
    "def nuton_method(a, b, eps):\n",
    "    x0 = (a + b) / 2 # Вибір початкового наближення з  середини відрізка\n",
    "    while True:\n",
    "        x1 = x0 - f(x0) / derivative_f(x0) # Обчислюємо наступну точку x1 за формулою методу Ньютона.\n",
    "        if abs(x1 - x0) < eps: # Перевірка зупинки: якщо різниця між x1 та x0 менша за eps, то зупиняємо ітераційний процес.\n",
    "            break\n",
    "        x0 = x1 # Переходимо до наступної ітерації, x1 стає новим наближенням.\n",
    "    return x1\n",
    "    \n",
    "def combined_method(a, b, eps):\n",
    "    while abs(a - b) > eps: # Вибір початкового наближення за ознакою зміни знаку функції.\n",
    "        if f(a) * derivative_f(a) < 0:\n",
    "            x0 = a\n",
    "        else:\n",
    "            x0 = b\n",
    "        x1 = nuton_method(a, b, eps)\n",
    "        if abs(f(x1)) < eps:\n",
    "            return x1\n",
    "        if f(a) * f(x1) < 0: # Змінюються кінці інтервалу згідно з ознакою зміни знаку функції.\n",
    "            b = x1\n",
    "        else:\n",
    "            a = x1\n",
    "    return (a + b) / 2\n",
    "\n",
    "#Відокремлення коренів рівняння було проведено аналітично і визначено ось такий корінь\n",
    "a = -2/3\n",
    "b = 1\n",
    "\n",
    "# Точність\n",
    "eps = 0.0001\n",
    "print(\"Розв'язки на відрізку [-2/3, 1]\")\n",
    "# Розв'язок методом Ньютона\n",
    "x_nuton = nuton_method(a, b, eps)\n",
    "print(f'Розв\\'язок методом Ньютона: x = {round(x_nuton, 5)}')\n",
    "\n",
    "# Розв'язок комбінованим методом\n",
    "x_combined = combined_method(a, b, eps)\n",
    "print(f'Розв\\'язок комбінованим методом: x = {round(x_combined, 5)}')"
   ]
  },
  {
   "cell_type": "code",
   "execution_count": null,
   "id": "5d32f250-0ef8-47a1-9951-994884fd3778",
   "metadata": {},
   "outputs": [],
   "source": []
  }
 ],
 "metadata": {
  "kernelspec": {
   "display_name": "Python 3 (ipykernel)",
   "language": "python",
   "name": "python3"
  },
  "language_info": {
   "codemirror_mode": {
    "name": "ipython",
    "version": 3
   },
   "file_extension": ".py",
   "mimetype": "text/x-python",
   "name": "python",
   "nbconvert_exporter": "python",
   "pygments_lexer": "ipython3",
   "version": "3.11.0"
  }
 },
 "nbformat": 4,
 "nbformat_minor": 5
}
