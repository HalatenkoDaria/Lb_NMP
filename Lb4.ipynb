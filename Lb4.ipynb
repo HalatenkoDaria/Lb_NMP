{
 "cells": [
  {
   "cell_type": "code",
   "execution_count": 38,
   "id": "4a32b3ed-8d0a-4a49-a9e6-0c5d47547af9",
   "metadata": {},
   "outputs": [
    {
     "name": "stdout",
     "output_type": "stream",
     "text": [
      "Матриця A:\n",
      "[[ 2  3  1]\n",
      " [-1  1  0]\n",
      " [ 1  2 -1]]\n",
      "Матриця B:\n",
      "[[1 2 1]\n",
      " [0 1 2]\n",
      " [3 1 1]]\n",
      "Матриця C = AB - BA:\n",
      "[[ 4  1  9]\n",
      " [-2 -6  3]\n",
      " [-8 -9  2]]\n"
     ]
    }
   ],
   "source": [
    "#Лабораторна робота №3 Елементи лінійної алгебри. Розв’язання систем лінійних алгебраїчних рівнянь\n",
    "#Варіант 1\n",
    "#Галатенко Дарія Іванівна 2-16\n",
    "#Завдання 1 (приклад 2)\n",
    "#Знайти матрицю C = AB-BA \n",
    "\n",
    "import numpy as np\n",
    "A = np.array([[2, 3, 1], [-1, 1, 0], [1, 2, -1]])\n",
    "print(\"Матриця A:\")\n",
    "print(A)\n",
    "B = np.array([[1, 2, 1], [0, 1, 2], [3, 1, 1]])\n",
    "print(\"Матриця B:\")\n",
    "print(B)\n",
    "# Обчислення добутків AB та BA\n",
    "AB = np.dot(A, B)\n",
    "BA = np.dot(B, A)\n",
    "\n",
    "# Обчислення матриці C = AB - BA\n",
    "C = AB - BA\n",
    "\n",
    "print(\"Матриця C = AB - BA:\")\n",
    "print(C)"
   ]
  },
  {
   "cell_type": "code",
   "execution_count": 5,
   "id": "34b1e026-1ecd-40c3-a32d-cb007c7eaa29",
   "metadata": {},
   "outputs": [
    {
     "name": "stdout",
     "output_type": "stream",
     "text": [
      "Матриця A:\n",
      "[[-1  0  2]\n",
      " [ 0  1  0]\n",
      " [ 1  2 -1]]\n",
      "Матриця A^2:\n",
      "[[ 3  4 -4]\n",
      " [ 0  1  0]\n",
      " [-2  0  3]]\n"
     ]
    }
   ],
   "source": [
    "#Завдання 2 (приклад 2)\n",
    "#Піднести матрицю до степеня\n",
    "A = np.array([[-1, 0, 2], [0, 1, 0], [1, 2, -1]])\n",
    "print(\"Матриця A:\")\n",
    "print(A)\n",
    "# Підносимо матрицю A до степеня 2\n",
    "result = np.linalg.matrix_power(A, 2)\n",
    "\n",
    "print(f\"Матриця A^2:\")\n",
    "print(result)"
   ]
  },
  {
   "cell_type": "code",
   "execution_count": 9,
   "id": "a6af8c77-e623-4ee9-abb4-7cdbe5fe0443",
   "metadata": {},
   "outputs": [
    {
     "name": "stdout",
     "output_type": "stream",
     "text": [
      "Матриця A:\n",
      "[[ 3  0  7]\n",
      " [-4  2  3]\n",
      " [-1  1  2]]\n",
      "Матриця B:\n",
      "[[1]\n",
      " [2]\n",
      " [4]]\n",
      "Добуток AB:\n",
      "[[31]\n",
      " [12]\n",
      " [ 9]]\n"
     ]
    }
   ],
   "source": [
    "#Завдання 3 (приклад 3)\n",
    "#Знайти добуток матриць\n",
    "A = np.array([[3, 0, 7], [-4, 2, 3], [-1, 1, 2]])\n",
    "print(\"Матриця A:\")\n",
    "print(A)\n",
    "B = np.array([[1], [2], [4]])\n",
    "print(\"Матриця B:\")\n",
    "print(B)\n",
    "AB = np.dot(A, B)\n",
    "print(\"Добуток AB:\")\n",
    "print(AB)"
   ]
  },
  {
   "cell_type": "code",
   "execution_count": 13,
   "id": "45aa10a2-f7a4-4959-a2c7-6252aadaef06",
   "metadata": {},
   "outputs": [
    {
     "name": "stdout",
     "output_type": "stream",
     "text": [
      "Матриця A:\n",
      "[[ 1  2  3]\n",
      " [-1  2  1]\n",
      " [ 1  3  2]]\n",
      "Визначник матриці:\n",
      "-8\n"
     ]
    }
   ],
   "source": [
    "#Завдання 4 (приклад 4)\n",
    "#Обчислити визначник\n",
    "A = np.array([[1, 2, 3], [-1, 2, 1], [1, 3, 2]])\n",
    "print(\"Матриця A:\")\n",
    "print(A)\n",
    "A_det = np.linalg.det(A)\n",
    "print(\"Визначник матриці:\")\n",
    "print(format(A_det, '.9g'))"
   ]
  },
  {
   "cell_type": "code",
   "execution_count": 15,
   "id": "e631fb30-f2d6-4437-9e28-dd6128cf90bb",
   "metadata": {},
   "outputs": [
    {
     "name": "stdout",
     "output_type": "stream",
     "text": [
      "Матриця A:\n",
      "[[2 3 4 1]\n",
      " [1 2 3 4]\n",
      " [3 4 1 2]\n",
      " [4 1 2 3]]\n",
      "Визначник матриці:\n",
      "-160\n"
     ]
    }
   ],
   "source": [
    "#Завдання 5 (приклад 2)\n",
    "#Обчислити визначник\n",
    "A = np.array([[2, 3, 4, 1], [1, 2, 3, 4], [3, 4, 1, 2], [4, 1, 2, 3]])\n",
    "print(\"Матриця A:\")\n",
    "print(A)\n",
    "A_det = np.linalg.det(A)\n",
    "print(\"Визначник матриці:\")\n",
    "print(format(A_det, '.9g'))"
   ]
  },
  {
   "cell_type": "code",
   "execution_count": 17,
   "id": "ef5bb99f-6535-4449-a51c-5bf5af32c2de",
   "metadata": {},
   "outputs": [
    {
     "name": "stdout",
     "output_type": "stream",
     "text": [
      "Матриця A:\n",
      "[[ 1  2 -3]\n",
      " [ 0  1  2]\n",
      " [ 0  0  1]]\n",
      "Обернена матриця:\n",
      "[[ 1 -2  7]\n",
      " [ 0  1 -2]\n",
      " [ 0  0  1]]\n"
     ]
    }
   ],
   "source": [
    "#Завдання 6 (приклад 1)\n",
    "#Знайти обернену матрицю до матриці\n",
    "A = np.array([[1, 2, -3], [0, 1, 2], [0, 0, 1]])\n",
    "print(\"Матриця A:\")\n",
    "print(A)\n",
    "A_inv = np.linalg.inv(A).astype(int)\n",
    "print(\"Обернена матриця:\")\n",
    "print(A_inv)"
   ]
  },
  {
   "cell_type": "code",
   "execution_count": 18,
   "id": "c11976a9-df4e-464c-b8c5-b4eafa617aab",
   "metadata": {},
   "outputs": [
    {
     "name": "stdout",
     "output_type": "stream",
     "text": [
      "Матриця A:\n",
      "[[-2  3  1 -1]\n",
      " [ 3  2  1  4]\n",
      " [ 1  2  3  4]\n",
      " [ 0  2  3  3]]\n",
      "Ранг матриці:\n",
      "3\n"
     ]
    }
   ],
   "source": [
    "#Завдання 7 (приклад 3)\n",
    "#Визначити ранг матриці\n",
    "A = np.array([[-2, 3, 1, -1], [3, 2, 1, 4], [1, 2, 3, 4], [0, 2, 3, 3]])\n",
    "print(\"Матриця A:\")\n",
    "print(A)\n",
    "rank = np.linalg.matrix_rank(A)\n",
    "print(\"Ранг матриці:\")\n",
    "print(rank)\n"
   ]
  },
  {
   "cell_type": "code",
   "execution_count": 37,
   "id": "9405ee72-e012-4698-9c7c-4a0eb349c4f4",
   "metadata": {},
   "outputs": [
    {
     "name": "stdout",
     "output_type": "stream",
     "text": [
      "Розв'язок за допомогою методу Крамера: [ 2. -1.  1.]\n",
      "Розв'язок за допомогою матричного методу (обернена матриця): [ 2. -1.  1.]\n",
      "Розв'язок за допомогою методу Гауса: [ 2 -1  1]\n",
      "Перевірка за допомогою solve(): [ 2. -1.  1.]\n"
     ]
    }
   ],
   "source": [
    "#Завдання 8 (Варіант 1)\n",
    "#Розв’язати систему лінійних рівнянь методом Крамера, матричним\n",
    "#методом (тобто обчислити обернену матрицю) і м. Гауса. Потім\n",
    "#зробити перевірку за допомогою solve() пакету linalg :\n",
    "# Задаємо коефіцієнти системи рівнянь у вигляді матриці A та вектора b\n",
    "A = np.array([[14, 4, 6], [5, -3, 2], [10, -11, 5]])\n",
    "b = np.array([30, 15, 36])\n",
    "\n",
    "# Метод Крамера\n",
    "def kramer_method(A, b):\n",
    "    det_A = np.linalg.det(A)\n",
    "    if np.isclose(det_A, 0):\n",
    "        print(\"Система рівнянь не має однозначного розв'язку (визначник A = 0).\")\n",
    "        return None\n",
    "    x = np.zeros_like(b, dtype=float)\n",
    "    for i in range(len(b)):\n",
    "        A_temp = A.copy()\n",
    "        A_temp[:, i] = b\n",
    "        x[i] = np.linalg.det(A_temp) / det_A\n",
    "    return x\n",
    "\n",
    "# Матричний метод (обчислення оберненої матриці)\n",
    "def matrix_method(A, b):\n",
    "    A_inv = np.linalg.inv(A)\n",
    "    x = np.dot(A_inv, b)\n",
    "    return x\n",
    "\n",
    "# Метод Гауса\n",
    "def gaussian_elimination(A, b):\n",
    "    augmented_matrix = np.column_stack((A, b))\n",
    "    n = len(b)\n",
    "    for i in range(n):\n",
    "        # Перевірка чи діагональний елемент не нульовий\n",
    "        if augmented_matrix[i, i] == 0:\n",
    "            print(\"Система рівнянь не має однозначного розв'язку (діагональний елемент нуль).\")\n",
    "            return None\n",
    "        # Нормалізація рядка\n",
    "        augmented_matrix[i] = augmented_matrix[i] / augmented_matrix[i, i]\n",
    "        # Віднімання нормалізованого рядка від інших рядків\n",
    "        for j in range(n):\n",
    "            if i != j:\n",
    "                augmented_matrix[j] -= augmented_matrix[i] * augmented_matrix[j, i]\n",
    "    x = augmented_matrix[:, -1]\n",
    "    return x\n",
    "\n",
    "# Результати рішення за різними методами\n",
    "print(\"Розв'язок за допомогою методу Крамера:\", kramer_method(A, b))\n",
    "print(\"Розв'язок за допомогою матричного методу (обернена матриця):\", matrix_method(A, b))\n",
    "print(\"Розв'язок за допомогою методу Гауса:\", gaussian_elimination(A, b))\n",
    "\n",
    "# Перевірка за допомогою solve()\n",
    "x_check = np.linalg.solve(A, b)\n",
    "print(\"Перевірка за допомогою solve():\", x_check)"
   ]
  },
  {
   "cell_type": "code",
   "execution_count": 45,
   "id": "4290378f-541d-44bc-bed4-b9505656c14b",
   "metadata": {},
   "outputs": [
    {
     "name": "stdout",
     "output_type": "stream",
     "text": [
      "Прямокутна матриця A:\n",
      "[[  8  -5   6]\n",
      " [  2   3   9]\n",
      " [ -5 -10  -4]]\n",
      "Кількість негативних елементів в кожному стовпці:\n",
      "[1 2 1]\n",
      "Кількість негативних елементів в кожному рядку:\n",
      "[1 0 3]\n"
     ]
    }
   ],
   "source": [
    "#Завдання\n",
    "#6) Створіть прямокутну матрицю A, яка має N рядків і стовпці M з\n",
    "#випадковими елементами. Визначте, скільки негативних елементів міститься\n",
    "#в кожному стовпці та в кожному рядку матриці.\n",
    "\n",
    "def count_negative_elements(matrix):\n",
    "    # Кількість негативних елементів в кожному стовпці\n",
    "    column_negatives = np.sum(matrix < 0, axis=0)\n",
    "    # Кількість негативних елементів в кожному рядку\n",
    "    line_negatives = np.sum(matrix < 0, axis=1)\n",
    "    return column_negatives, line_negatives\n",
    "\n",
    "def main():\n",
    "    # Створення прямокутної матриці з випадковими цілими числами\n",
    "    A = np.random.randint(-10, 10, size=(3, 3))\n",
    "    print(\"Прямокутна матриця A:\")\n",
    "    print(A)\n",
    "    \n",
    "    # Обчислення кількості негативних елементів в кожному стовпці і рядку\n",
    "    column_negatives, line_negatives = count_negative_elements(A)\n",
    "    print(\"Кількість негативних елементів в кожному стовпці:\")\n",
    "    print(column_negatives)\n",
    "    print(\"Кількість негативних елементів в кожному рядку:\")\n",
    "    print(line_negatives)\n",
    "\n",
    "if __name__ == \"__main__\":\n",
    "    main()"
   ]
  },
  {
   "cell_type": "code",
   "execution_count": 41,
   "id": "570ae424-443d-4ee0-abd2-2ff9e685c5a0",
   "metadata": {},
   "outputs": [],
   "source": [
    "#Висновок: Завдяки виконанню цієї лабораторної роботи я отримала цінний досвід у вирішенні різноманітних завдань \n",
    "#з лінійної алгебри та роботи з матрицями. В процесі виконання було вивчено та застосовано різні методи, \n",
    "#такі як матричний метод, метод Крамера та метод Гауса для розв'язання систем лінійних рівнянь.\n",
    "#Я впевнена, що отримані навички будуть корисними для мене у подальших студентських та професійних проектах, \n",
    "#де потрібно буде вирішувати складні математичні задачі."
   ]
  }
 ],
 "metadata": {
  "kernelspec": {
   "display_name": "Python 3 (ipykernel)",
   "language": "python",
   "name": "python3"
  },
  "language_info": {
   "codemirror_mode": {
    "name": "ipython",
    "version": 3
   },
   "file_extension": ".py",
   "mimetype": "text/x-python",
   "name": "python",
   "nbconvert_exporter": "python",
   "pygments_lexer": "ipython3",
   "version": "3.11.0"
  }
 },
 "nbformat": 4,
 "nbformat_minor": 5
}
