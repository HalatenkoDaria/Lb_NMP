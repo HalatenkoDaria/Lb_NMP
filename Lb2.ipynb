{
 "cells": [
  {
   "cell_type": "code",
   "execution_count": 12,
   "id": "de452f07-3296-4ad7-93f9-20d7949d54a8",
   "metadata": {},
   "outputs": [
    {
     "name": "stdout",
     "output_type": "stream",
     "text": [
      "Розв'язок нелінійного рівняння на відрізку [-0.6666666666666666, 1]:\n",
      "x = 0.79093 - Метод половинного ділення\n",
      "x = 0.7909 - Метод хорд\n"
     ]
    }
   ],
   "source": [
    "import numpy as np\n",
    "import numdifftools as nd\n",
    "\n",
    "def f(x):\n",
    "    return 9*pow(x, 4) + 8*pow(x,3) + 1.5*pow(x, 2) + 2*x - 10\n",
    "\n",
    "eps = 0.0001\n",
    "\n",
    "def half_division_method(a, b, eps): # Метод половинного ділення для знаходження кореня рівняння f(x)=0\n",
    "    while (abs(a - b) > eps):\n",
    "        if f(a) * f((a + b) / 2) < 0:\n",
    "            b = (a + b) / 2\n",
    "        else:\n",
    "            a = (a + b) / 2\n",
    "    x = (a + b) / 2\n",
    "    return x\n",
    "\n",
    "def chord_method(a, b, eps): # Метод хорд для знаходження кореня рівняння f(x)=0\n",
    "    derivative_f = nd.Derivative(f, n=1) # Обчислення похідної функції f(x) за допомогою numdifftools\n",
    "    # Вибір початкових точок xi та x0 згідно з методом хорд\n",
    "    if f(a) * derivative_f(a) > 0:\n",
    "        x0 = a\n",
    "        xi = b\n",
    "    else:\n",
    "        x0 = b\n",
    "        xi = a\n",
    "    # Проведення ітерацій методу хорд для знаходження кореня рівняння f(x)=0\n",
    "    xi_1 = xi - (xi - x0) * f(xi) / (f(xi) - f(x0))\n",
    "    while (abs(xi_1 - xi) > eps):\n",
    "        xi = xi_1\n",
    "        xi_1 = xi - (xi - x0) * f(xi) / (f(xi) - f(x0))\n",
    "    return xi_1\n",
    "# Встановлюємо початковий і кінцевий інтервали для пошуку кореня\n",
    "a = -2/3\n",
    "b = 1\n",
    "\n",
    "print(f'Розв\\'язок нелінійного рівняння на відрізку [{a}, {b}]:')\n",
    "x_half_division = half_division_method(a, b, eps)\n",
    "x_chord = chord_method(a, b, eps)\n",
    "\n",
    "print(f'x = {round(x_half_division, 5)} - Метод половинного ділення')\n",
    "print(f'x = {round(x_chord, 5)} - Метод хорд')"
   ]
  },
  {
   "cell_type": "code",
   "execution_count": null,
   "id": "4c948fff-7136-44d7-8ee4-4fff8044f847",
   "metadata": {},
   "outputs": [],
   "source": []
  }
 ],
 "metadata": {
  "kernelspec": {
   "display_name": "Python 3 (ipykernel)",
   "language": "python",
   "name": "python3"
  },
  "language_info": {
   "codemirror_mode": {
    "name": "ipython",
    "version": 3
   },
   "file_extension": ".py",
   "mimetype": "text/x-python",
   "name": "python",
   "nbconvert_exporter": "python",
   "pygments_lexer": "ipython3",
   "version": "3.11.0"
  }
 },
 "nbformat": 4,
 "nbformat_minor": 5
}
