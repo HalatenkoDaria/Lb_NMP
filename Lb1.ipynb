{
  "metadata": {
    "kernelspec": {
      "name": "python",
      "display_name": "Python (Pyodide)",
      "language": "python"
    },
    "language_info": {
      "codemirror_mode": {
        "name": "python",
        "version": 3
      },
      "file_extension": ".py",
      "mimetype": "text/x-python",
      "name": "python",
      "nbconvert_exporter": "python",
      "pygments_lexer": "ipython3",
      "version": "3.8"
    }
  },
  "nbformat_minor": 4,
  "nbformat": 4,
  "cells": [
    {
      "cell_type": "code",
      "source": "import math\n\nexact_x1 = sqrt(44) #Перше точне число\nexact_x2 = 19 / 41 #Друге точне число\napprox_x1 = 6.63 #Перше наближене число\napprox_x2 = 0.463 #Друге наближене число\n\n# Створюємо функцію для обрахування відносних похибок\ndef my_function(x, y):\n    return abs(x - y) / abs(x)\n#Викликаємо функцію для моїх аргументів\nrelative_error_x1 = my_function(exact_x1, approx_x1)\nrelative_error_x2 = my_function(exact_x2, approx_x2)\n\n# Порівнюємо відносні похибки та виводимо результат\nif relative_error_x1 < relative_error_x2:\n    print(\"Перша рівність точніша. Відносна похибка: \", round(relative_error_x1, 5))\nelif relative_error_x1 > relative_error_x2:\n    print(\"Друга рівність точніша. Відносна похибка: \", round(relative_error_x2, 5))\nelse:\n    print(\"Обидві рівності мають однакову точність.\")",
      "metadata": {
        "trusted": true
      },
      "outputs": [
        {
          "ename": "<class 'NameError'>",
          "evalue": "name 'sqrt' is not defined",
          "traceback": [
            "\u001b[0;31m---------------------------------------------------------------------------\u001b[0m",
            "\u001b[0;31mNameError\u001b[0m                                 Traceback (most recent call last)",
            "Cell \u001b[0;32mIn[1], line 3\u001b[0m\n\u001b[1;32m      1\u001b[0m \u001b[38;5;28;01mimport\u001b[39;00m \u001b[38;5;21;01mmath\u001b[39;00m\n\u001b[0;32m----> 3\u001b[0m exact_x1 \u001b[38;5;241m=\u001b[39m \u001b[43msqrt\u001b[49m(\u001b[38;5;241m44\u001b[39m) \u001b[38;5;66;03m#Перше точне число\u001b[39;00m\n\u001b[1;32m      4\u001b[0m exact_x2 \u001b[38;5;241m=\u001b[39m \u001b[38;5;241m19\u001b[39m \u001b[38;5;241m/\u001b[39m \u001b[38;5;241m41\u001b[39m \u001b[38;5;66;03m#Друге точне число\u001b[39;00m\n\u001b[1;32m      5\u001b[0m approx_x1 \u001b[38;5;241m=\u001b[39m \u001b[38;5;241m6.63\u001b[39m \u001b[38;5;66;03m#Перше наближене число\u001b[39;00m\n",
            "\u001b[0;31mNameError\u001b[0m: name 'sqrt' is not defined"
          ],
          "output_type": "error"
        }
      ],
      "execution_count": 1
    },
    {
      "cell_type": "code",
      "source": "",
      "metadata": {
        "trusted": true
      },
      "outputs": [],
      "execution_count": null
    },
    {
      "cell_type": "code",
      "source": "",
      "metadata": {
        "trusted": true
      },
      "outputs": [],
      "execution_count": null
    }
  ]
}