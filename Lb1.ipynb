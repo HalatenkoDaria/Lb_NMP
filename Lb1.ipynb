{
  "cells": [
    {
      "cell_type": "code",
      "execution_count": 2,
      "metadata": {
        "trusted": true
      },
      "outputs": [
        {
          "name": "stdout",
          "output_type": "stream",
          "text": [
            "Перша рівність точніша. Відносна похибка:  0.00049\n"
          ]
        }
      ],
      "source": [
        "import math\n",
        "\n",
        "exact_x1 = math.sqrt(44) #Перше точне число\n",
        "exact_x2 = 19 / 41 #Друге точне число\n",
        "approx_x1 = 6.63 #Перше наближене число\n",
        "approx_x2 = 0.463 #Друге наближене число\n",
        "\n",
        "# Створюємо функцію для обрахування відносних похибок\n",
        "def my_function(x, y):\n",
        "    return abs(x - y) / abs(x)\n",
        "#Викликаємо функцію для моїх аргументів\n",
        "relative_error_x1 = my_function(exact_x1, approx_x1)\n",
        "relative_error_x2 = my_function(exact_x2, approx_x2)\n",
        "\n",
        "# Порівнюємо відносні похибки та виводимо результат\n",
        "if relative_error_x1 < relative_error_x2:\n",
        "    print(\"Перша рівність точніша. Відносна похибка: \", round(relative_error_x1, 5))\n",
        "elif relative_error_x1 > relative_error_x2:\n",
        "    print(\"Друга рівність точніша. Відносна похибка: \", round(relative_error_x2, 5))\n",
        "else:\n",
        "    print(\"Обидві рівності мають однакову точність.\")"
      ]
    }
  ],
  "metadata": {
    "kernelspec": {
      "display_name": "Python 3",
      "language": "python",
      "name": "python3"
    },
    "language_info": {
      "codemirror_mode": {
        "name": "ipython",
        "version": 3
      },
      "file_extension": ".py",
      "mimetype": "text/x-python",
      "name": "python",
      "nbconvert_exporter": "python",
      "pygments_lexer": "ipython3",
      "version": "3.11.0"
    }
  },
  "nbformat": 4,
  "nbformat_minor": 4
}
